{
 "cells": [
  {
   "attachments": {},
   "cell_type": "markdown",
   "metadata": {},
   "source": [
    "Data Engineering "
   ]
  },
  {
   "cell_type": "code",
   "execution_count": 6,
   "metadata": {},
   "outputs": [],
   "source": [
    "import pandas as pd\n",
    "import numpy as np\n",
    "from datetime import  datetime\n",
    "import os "
   ]
  },
  {
   "cell_type": "code",
   "execution_count": 68,
   "metadata": {},
   "outputs": [],
   "source": [
    "archivos = ['amazon_prime_titles-score.csv','disney_plus_titles-score.csv','hulu_titles-score (2).csv','netflix_titles-score.csv']\n",
    "os.makedirs('Datasets', exist_ok=True)\n",
    "for x in archivos:\n",
    "    Dataset = pd.read_csv('Datasets/'+ x)\n",
    "    \n",
    "    Dataset['duration_int'] = 0 #El campo duration debe convertirse en dos campos: duration_int y duration_type.\n",
    "    Dataset['duration_type'] = 0 #El primero será un integer y el segundo un string indicando la unidad de medición de duración: min (minutos) o season (temporadas)\n",
    "    \n",
    "    meses = ['January','February','March','April','May','June','July','August','September','October','November','December']\n",
    "    for index,serie in Dataset.iterrows():\n",
    "        Dataset.iat[index,0] = x[0] + serie[0] #Cada id se compondrá de la primera letra del nombre de la plataforma, seguido del show_id ya presente en los datasets\n",
    "        fecha = str(Dataset.iat[index,6])\n",
    "        Dataset.iat[index,1] = str(serie[1]).lower() #Los campos de texto deberán estar en minúsculas\n",
    "        Dataset.iat[index,2] = str(serie[2]).lower() #Los campos de texto deberán estar en minúsculas\n",
    "        Dataset.iat[index,3] = str(serie[3]).lower() #Los campos de texto deberán estar en minúsculas\n",
    "        Dataset.iat[index,4] = str(serie[4]).lower() #Los campos de texto deberán estar en minúsculas\n",
    "        Dataset.iat[index,5] = str(serie[5]).lower() #Los campos de texto deberán estar en minúsculas\n",
    "        Dataset.iat[index,10] = str(serie[10]).lower() #Los campos de texto deberán estar en minúsculas\n",
    "        Dataset.iat[index,11] = str(serie[11]).lower() #Los campos de texto deberán estar en minúsculas\n",
    "        if serie[2][0] == '#':\n",
    "                 Dataset.iat[index,2] = str(serie[2]).replace('#','')\n",
    "        if serie[2][0] == '\"':\n",
    "                 Dataset.iat[index,2] = str(serie[2]).replace('\"','')\n",
    "        if serie[2][0] == \"'\":\n",
    "                 Dataset.iat[index,2] = str(serie[2]).replace(\"'\",'')\n",
    "        if str(Dataset.iat[index,8]) == 'nan':\n",
    "            Dataset.iat[index,8] = 'G' #Los valores nulos del campo rating deberán reemplazarse por el string “G”\n",
    "        if len(str(serie[8]).split()) >= 2:\n",
    "            if str(serie[8]).split()[1] in ['Season','min','Seasons']:\n",
    "                Dataset.iat[index,13] = str(serie[8]).split()[0]\n",
    "                Dataset.iat[index,14] = str(serie[8]).split()[1][:6].lower()\n",
    "                Dataset.iat[index,8] = 'G' #Los valores nulos del campo rating deberán reemplazarse por el string “G”\n",
    "        if fecha.split()[0] in meses:\n",
    "            # las fechas, deberán tener el formato AAAA-mm-dd\n",
    "            Dataset.iat[index,6] = datetime.strptime((fecha.split()[2] + '/' + str(meses.index(fecha.split()[0]) + 1) + '/' + fecha.split()[1].replace(',','')),'%Y/%m/%d')\n",
    "        if str(serie[9]).lower() == 'nan':\n",
    "            Dataset.iat[index,13] = 0\n",
    "            Dataset.iat[index,14] = 'sin dato'\n",
    "        else:\n",
    "            Dataset.iat[index,13] = str(serie[9]).split()[0]  #todo el texto que esta en la columna duration pasa a las dos columnas creadas\n",
    "            Dataset.iat[index,14] = str(serie[9]).split()[1][:6].lower()\n",
    "    Nuevo_Dataset = Dataset.drop(['duration'],axis=1)\n",
    "    if archivos.index(x) >= 1:\n",
    "        Nuevo_Dataset.to_csv('Datasets/out.csv',header=False,index=None,mode='a')\n",
    "    else:\n",
    "        Nuevo_Dataset.to_csv('Datasets/out.csv',index=None,mode='a')\n"
   ]
  },
  {
   "cell_type": "code",
   "execution_count": 69,
   "metadata": {},
   "outputs": [
    {
     "data": {
      "text/html": [
       "<div>\n",
       "<style scoped>\n",
       "    .dataframe tbody tr th:only-of-type {\n",
       "        vertical-align: middle;\n",
       "    }\n",
       "\n",
       "    .dataframe tbody tr th {\n",
       "        vertical-align: top;\n",
       "    }\n",
       "\n",
       "    .dataframe thead th {\n",
       "        text-align: right;\n",
       "    }\n",
       "</style>\n",
       "<table border=\"1\" class=\"dataframe\">\n",
       "  <thead>\n",
       "    <tr style=\"text-align: right;\">\n",
       "      <th></th>\n",
       "      <th>show_id</th>\n",
       "      <th>type</th>\n",
       "      <th>title</th>\n",
       "      <th>director</th>\n",
       "      <th>cast</th>\n",
       "      <th>country</th>\n",
       "      <th>date_added</th>\n",
       "      <th>release_year</th>\n",
       "      <th>rating</th>\n",
       "      <th>listed_in</th>\n",
       "      <th>description</th>\n",
       "      <th>score</th>\n",
       "      <th>duration_int</th>\n",
       "    </tr>\n",
       "    <tr>\n",
       "      <th>duration_type</th>\n",
       "      <th></th>\n",
       "      <th></th>\n",
       "      <th></th>\n",
       "      <th></th>\n",
       "      <th></th>\n",
       "      <th></th>\n",
       "      <th></th>\n",
       "      <th></th>\n",
       "      <th></th>\n",
       "      <th></th>\n",
       "      <th></th>\n",
       "      <th></th>\n",
       "      <th></th>\n",
       "    </tr>\n",
       "  </thead>\n",
       "  <tbody>\n",
       "    <tr>\n",
       "      <th>Sin dato</th>\n",
       "      <td>482</td>\n",
       "      <td>482</td>\n",
       "      <td>482</td>\n",
       "      <td>3</td>\n",
       "      <td>3</td>\n",
       "      <td>302</td>\n",
       "      <td>482</td>\n",
       "      <td>482</td>\n",
       "      <td>482</td>\n",
       "      <td>482</td>\n",
       "      <td>479</td>\n",
       "      <td>482</td>\n",
       "      <td>482</td>\n",
       "    </tr>\n",
       "    <tr>\n",
       "      <th>min</th>\n",
       "      <td>15999</td>\n",
       "      <td>15999</td>\n",
       "      <td>15999</td>\n",
       "      <td>14506</td>\n",
       "      <td>13636</td>\n",
       "      <td>7565</td>\n",
       "      <td>8201</td>\n",
       "      <td>15999</td>\n",
       "      <td>15999</td>\n",
       "      <td>15999</td>\n",
       "      <td>15999</td>\n",
       "      <td>15999</td>\n",
       "      <td>15999</td>\n",
       "    </tr>\n",
       "    <tr>\n",
       "      <th>season</th>\n",
       "      <td>6517</td>\n",
       "      <td>6517</td>\n",
       "      <td>6517</td>\n",
       "      <td>230</td>\n",
       "      <td>4038</td>\n",
       "      <td>3632</td>\n",
       "      <td>4761</td>\n",
       "      <td>6517</td>\n",
       "      <td>6517</td>\n",
       "      <td>6517</td>\n",
       "      <td>6516</td>\n",
       "      <td>6517</td>\n",
       "      <td>6517</td>\n",
       "    </tr>\n",
       "  </tbody>\n",
       "</table>\n",
       "</div>"
      ],
      "text/plain": [
       "               show_id   type  title  director   cast  country  date_added  \\\n",
       "duration_type                                                                \n",
       "Sin dato           482    482    482         3      3      302         482   \n",
       "min              15999  15999  15999     14506  13636     7565        8201   \n",
       "season            6517   6517   6517       230   4038     3632        4761   \n",
       "\n",
       "               release_year  rating  listed_in  description  score  \\\n",
       "duration_type                                                        \n",
       "Sin dato                482     482        482          479    482   \n",
       "min                   15999   15999      15999        15999  15999   \n",
       "season                 6517    6517       6517         6516   6517   \n",
       "\n",
       "               duration_int  \n",
       "duration_type                \n",
       "Sin dato                482  \n",
       "min                   15999  \n",
       "season                 6517  "
      ]
     },
     "execution_count": 69,
     "metadata": {},
     "output_type": "execute_result"
    }
   ],
   "source": [
    "df = pd.read_csv('Datasets/out.csv')\n",
    "identificador = {'amazon':'a','disney':'d','hulu':'h','netflix':'n'}\n",
    "df.groupby('duration_type').count()"
   ]
  },
  {
   "cell_type": "code",
   "execution_count": 56,
   "metadata": {},
   "outputs": [
    {
     "name": "stdout",
     "output_type": "stream",
     "text": [
      "196\n"
     ]
    }
   ],
   "source": [
    "#Cantidad de veces que aparece una keyword en el título de peliculas/series, por plataforma\n",
    "def get_word_count(plataforma,keyword):\n",
    "    count = 0\n",
    "    for index,serie in df.iterrows():\n",
    "        if str(keyword) in serie[2] and identificador[str(plataforma).lower()] in serie[0]:\n",
    "            count += 1\n",
    "    print(count)\n",
    "get_word_count('netflix','love')"
   ]
  },
  {
   "cell_type": "code",
   "execution_count": 57,
   "metadata": {},
   "outputs": [
    {
     "name": "stdout",
     "output_type": "stream",
     "text": [
      "25\n"
     ]
    }
   ],
   "source": [
    "#Cantidad de películas por plataforma con un puntaje mayor a XX en determinado año\n",
    "def  get_score_count(plataforma,score,año):\n",
    "    count = 0\n",
    "    for index,serie in df.iterrows():\n",
    "        if identificador[str(plataforma).lower()] in serie[0] and serie[11] > score and serie[7] == año:\n",
    "            count += 1\n",
    "    print(count)\n",
    "get_score_count('netflix',85,2010)"
   ]
  },
  {
   "cell_type": "code",
   "execution_count": 58,
   "metadata": {},
   "outputs": [
    {
     "name": "stdout",
     "output_type": "stream",
     "text": [
      "abilene town   100\n"
     ]
    }
   ],
   "source": [
    "#La segunda película con mayor score para una plataforma determinada, según el orden alfabético de los títulos.\n",
    "segunda_película = df.sort_values('title')\n",
    "def get_second_score(plataforma):\n",
    "    count = 0\n",
    "    for index,serie in segunda_película.iterrows():\n",
    "        if identificador[str(plataforma).lower()] in serie[0] and serie[1] == 'movie' and serie[11] >= 100:\n",
    "            count += 1\n",
    "            if count == 2:\n",
    "                print(serie[2],' ',serie[11])\n",
    "                break\n",
    "get_second_score('amazon')"
   ]
  },
  {
   "cell_type": "code",
   "execution_count": 84,
   "metadata": {},
   "outputs": [
    {
     "name": "stdout",
     "output_type": "stream",
     "text": [
      "band baaja baaraat   139\n"
     ]
    }
   ],
   "source": [
    "#Película que más duró según año, plataforma y tipo de duración\n",
    "def get_longest(plataforma,tipo,año):\n",
    "    count = {}\n",
    "    for index,serie in df.iterrows():\n",
    "        if serie[7] == año and identificador[str(plataforma).lower()] in serie[0] and serie[13] == str(tipo).lower():\n",
    "            count[serie[12]] = serie[2]\n",
    "    print(count[sorted(count.keys()).pop()],' ',sorted(count.keys()).pop())\n",
    "get_longest('amazon','min',2010)\n"
   ]
  },
  {
   "cell_type": "code",
   "execution_count": 61,
   "metadata": {},
   "outputs": [
    {
     "name": "stdout",
     "output_type": "stream",
     "text": [
      "569\n"
     ]
    }
   ],
   "source": [
    "#Cantidad de series y películas por rating\n",
    "def get_rating_count(rating):\n",
    "    count = 0\n",
    "    for index,serie in df.iterrows():\n",
    "        if rating in serie[8]:\n",
    "            count += 1\n",
    "    print(count)\n",
    "get_rating_count('TV-Y7')"
   ]
  }
 ],
 "metadata": {
  "kernelspec": {
   "display_name": "Python 3",
   "language": "python",
   "name": "python3"
  },
  "language_info": {
   "codemirror_mode": {
    "name": "ipython",
    "version": 3
   },
   "file_extension": ".py",
   "mimetype": "text/x-python",
   "name": "python",
   "nbconvert_exporter": "python",
   "pygments_lexer": "ipython3",
   "version": "3.10.8 (tags/v3.10.8:aaaf517, Oct 11 2022, 16:50:30) [MSC v.1933 64 bit (AMD64)]"
  },
  "orig_nbformat": 4,
  "vscode": {
   "interpreter": {
    "hash": "369f2c481f4da34e4445cda3fffd2e751bd1c4d706f27375911949ba6bb62e1c"
   }
  }
 },
 "nbformat": 4,
 "nbformat_minor": 2
}
